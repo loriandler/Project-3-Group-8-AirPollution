{
 "cells": [
  {
   "cell_type": "code",
   "execution_count": null,
   "metadata": {},
   "outputs": [],
   "source": [
    "# Import dependencies\n",
    "import pandas as pd\n",
    "\n"
   ]
  },
  {
   "cell_type": "markdown",
   "metadata": {},
   "source": [
    "\n",
    "\n",
    "END_COLUMNS = [date, lat, long, parameter name, concentration metric, concentration value, state, county, city]\n",
    "POLLUTANTS = ['1,3-Butadiene', 'Benzene', 'Formaldehyde', 'Lead PM2.5 LC', 'O3'....]\n",
    "YEARS = [2020, 2021]\n",
    "STATES = ['California', 'Minnesota', 'New York', 'Texas']\n",
    "\n"
   ]
  },
  {
   "cell_type": "markdown",
   "metadata": {},
   "source": [
    "1) read HAP_2020, HAP_2021, O3_2020, O3_2021...\n",
    "\n",
    "df = pd.read_csv(\"https://aqs.epa.gov/aqsweb/airdata/daily_44201_2022.zip\", compression=\"zip\")"
   ]
  },
  {
   "cell_type": "code",
   "execution_count": null,
   "metadata": {},
   "outputs": [],
   "source": [
    "# data information, define constants and functions\n",
    "\n",
    "columns_2022 = ['State Code', 'County Code', 'Site Num', 'Parameter Code', 'POC',\n",
    "       'Latitude', 'Longitude', 'Datum', 'Parameter Name', 'Sample Duration',\n",
    "       'Pollutant Standard', 'Date Local', 'Units of Measure', 'Event Type',\n",
    "       'Observation Count', 'Observation Percent', 'Arithmetic Mean',\n",
    "       '1st Max Value', '1st Max Hour', 'AQI', 'Method Code', 'Method Name',\n",
    "       'Local Site Name', 'Address', 'State Name', 'County Name', 'City Name',\n",
    "       'CBSA Name', 'Date of Last Change']\n",
    "\n",
    "DROP_COLUMNS = ['State Code', 'County Code', 'Site Num', 'Datum', 'Sample Duration', \n",
    "       'Pollutant Standard',  'Event Type','Observation Count', 'Observation Percent', \n",
    "        '1st Max Hour', 'Method Code', 'Method Name','Local Site Name', 'Address', \n",
    "       'CBSA Name', 'Date of Last Change']\n",
    "\n",
    "# see https://aqs.epa.gov/aqsweb/airdata/FileFormats.html#_daily_summary_files\n",
    "KEPT_COLUMNS = ['Parameter Code', 'POC', 'Latitude', 'Longitude','Parameter Name',\n",
    "                'Date Local', 'Units of Measure', 'Arithmetic Mean','1st Max Value',\n",
    "                'AQI','State Name', 'County Name', 'City Name']\n",
    "\n",
    "STATES_4 = ['California', 'Minnesota', 'New York', 'Texas']\n",
    "\n",
    "POLLUTANTS = ['Benzene', 'Formaldehyde', '1,3-Butadiene', 'Lead PM2.5 LC', 'Ozone', 'Sulfur dioxide', 'Carbon monoxide', 'Nitrogen dioxide (NO2)' ]"
   ]
  },
  {
   "cell_type": "code",
   "execution_count": null,
   "metadata": {},
   "outputs": [],
   "source": [
    "merge_df = pd.DataFrame()\n",
    "for year in [2022, 2021, 2020]:\n",
    "    for pollutant_code in [44201, 42401, 42101, 42602, \"HAPS\"]:\n",
    "        url = f\"https://aqs.epa.gov/aqsweb/airdata/daily_{pollutant_code}_{year}.zip\"\n",
    "        df = pd.read_csv(url, compression=\"zip\")\n",
    "        merge_df = pd.concat([merge_df, df], ignore_index=True)\n",
    "        print(url, df.shape, merge_df.shape, list(df.columns) == list(columns_2022)) #, df.columns, sep=\"\\n\")\n"
   ]
  },
  {
   "cell_type": "code",
   "execution_count": null,
   "metadata": {},
   "outputs": [],
   "source": [
    "merge_df "
   ]
  },
  {
   "cell_type": "code",
   "execution_count": null,
   "metadata": {},
   "outputs": [],
   "source": [
    "drop_col_df = merge_df.drop(DROP_COLUMNS, 1)\n",
    "drop_col_df"
   ]
  },
  {
   "cell_type": "code",
   "execution_count": null,
   "metadata": {},
   "outputs": [],
   "source": [
    "# guidance from https://stackoverflow.com/questions/12065885/filter-dataframe-rows-if-value-in-column-is-in-a-set-list-of-values \n",
    "drop_state_df = drop_col_df[drop_col_df['State Name'].isin(STATES_4)]\n",
    "drop_state_df"
   ]
  },
  {
   "cell_type": "code",
   "execution_count": null,
   "metadata": {},
   "outputs": [],
   "source": [
    "drop_pollutants_df = drop_state_df[drop_state_df['Parameter Name'].isin(POLLUTANTS)]\n",
    "drop_pollutants_df"
   ]
  },
  {
   "cell_type": "code",
   "execution_count": null,
   "metadata": {},
   "outputs": [],
   "source": [
    "drop_pollutants_renamed_df = drop_pollutants_df.rename(columns=\n",
    "                                          {'Parameter Code': 'parameter_code', \n",
    "                                           'POC': 'POC', \n",
    "                                           'Latitude': 'lat', \n",
    "                                           'Longitude': 'lon',\n",
    "                                           'Parameter Name': 'parameter_name',\n",
    "                                           'Date Local': 'date_local', \n",
    "                                           'Units of Measure': 'units_of_measure', \n",
    "                                           'Arithmetic Mean': 'arithmetic_mean',\n",
    "                                           '1st Max Value': 'first_max_value',\n",
    "                                           'State Name': 'state_name', \n",
    "                                           'County Name': 'county_name', \n",
    "                                           'City Name': 'city_name'                          \n",
    "                                           })\n",
    "\n",
    "drop_pollutants_renamed_df"
   ]
  },
  {
   "cell_type": "code",
   "execution_count": null,
   "metadata": {},
   "outputs": [],
   "source": [
    "drop_pollutants_renamed_df.to_csv('drop_pollutants.csv')"
   ]
  }
 ],
 "metadata": {
  "kernelspec": {
   "display_name": "dev",
   "language": "python",
   "name": "python3"
  },
  "language_info": {
   "codemirror_mode": {
    "name": "ipython",
    "version": 3
   },
   "file_extension": ".py",
   "mimetype": "text/x-python",
   "name": "python",
   "nbconvert_exporter": "python",
   "pygments_lexer": "ipython3",
   "version": "3.10.12"
  }
 },
 "nbformat": 4,
 "nbformat_minor": 2
}
